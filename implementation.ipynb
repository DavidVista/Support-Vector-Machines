{
  "nbformat": 4,
  "nbformat_minor": 0,
  "metadata": {
    "colab": {
      "provenance": []
    },
    "kernelspec": {
      "name": "python3",
      "display_name": "Python 3"
    },
    "language_info": {
      "name": "python"
    }
  },
  "cells": [
    {
      "cell_type": "markdown",
      "source": [
        "<h2> SVM method for multi-class classfication </h2>"
      ],
      "metadata": {
        "id": "tzB8A6t6hbTN"
      }
    },
    {
      "cell_type": "markdown",
      "source": [
        "<h3> Recap of SVM. Implementation of a model and fitting using GD </h3>"
      ],
      "metadata": {
        "id": "3G_nrbtKhlqS"
      }
    },
    {
      "cell_type": "code",
      "source": [
        "import numpy as np\n",
        "import matplotlib.pyplot as plt"
      ],
      "metadata": {
        "id": "wlySlnkAiAYS"
      },
      "execution_count": 1,
      "outputs": []
    },
    {
      "cell_type": "code",
      "execution_count": 13,
      "metadata": {
        "id": "itP63jPThZ9i"
      },
      "outputs": [],
      "source": [
        "class SVM_grad_descent:\n",
        "    d: int\n",
        "    w: np.array\n",
        "    b: float\n",
        "    ls: np.array\n",
        "    alpha: float = .1\n",
        "\n",
        "    def mulmat(self, a: np.array, M: np.array) -> np.array:\n",
        "        return (M.T * a).T\n",
        "\n",
        "    def _loss(self, X: np.array, Y: np.array) -> float:\n",
        "        return .5 * np.inner(self.w, self.w) - np.sum( self.ls * Y * (X.dot(self.w) + self.b * np.ones(Y.shape)) )\n",
        "\n",
        "    def _grad(self, X, Y) -> np.array:\n",
        "        grad_w = self.w - np.sum(self.mulmat(self.ls * Y, X), axis=0)\n",
        "        grad_b = -np.sum(self.ls * Y)\n",
        "        grad_ls = np.ones(Y.shape) - Y * (X.dot(self.w) + self.b * np.ones(Y.shape))\n",
        "        return grad_w, grad_b, grad_ls\n",
        "\n",
        "    def __init__(self, d: int):\n",
        "        self.d = d\n",
        "        self.w = np.random.normal(size=(d, ))\n",
        "        self.b = np.random.normal()\n",
        "\n",
        "    def predict(self, x_new: np.array) -> float:\n",
        "        return np.sign(self.w.dot(x_new) + self.b)\n",
        "\n",
        "    def fit(self, X, Y, max_iter=100) -> None:\n",
        "        n = X.shape[0]\n",
        "        self.ls = np.random.uniform(size=(n, ))\n",
        "        for t in range(max_iter):\n",
        "            grad_w, grad_b, grad_ls = self._grad(X, Y)\n",
        "            self.w = self.w - self.alpha * grad_w\n",
        "            self.b = self.b - self.alpha * grad_b\n",
        "            self.ls = self.ls + self.alpha * grad_ls\n",
        "            self.ls = np.clip(self.ls, 0, None)"
      ]
    },
    {
      "cell_type": "code",
      "source": [
        "X_1 = np.random.multivariate_normal(np.array([6, 6]), 4 * np.eye(2), size=(50, ))\n",
        "X_2 = np.random.multivariate_normal(np.array([10, 2]), np.eye(2), size=(50, ))\n",
        "X = np.vstack((X_1, X_2))\n",
        "Y = np.array([1 for _ in range(50)] + [-1 for _ in range(50)])"
      ],
      "metadata": {
        "id": "Y3I983cGJX9a"
      },
      "execution_count": 3,
      "outputs": []
    },
    {
      "cell_type": "code",
      "source": [
        "from sklearn.model_selection import train_test_split\n",
        "\n",
        "X_train, X_test, Y_train, Y_test = train_test_split(X, Y, test_size=.1)"
      ],
      "metadata": {
        "id": "RDPaTlzvJPoj"
      },
      "execution_count": 4,
      "outputs": []
    },
    {
      "cell_type": "code",
      "source": [
        "svm_grad = SVM_grad_descent(2)"
      ],
      "metadata": {
        "id": "pEbF-yQFKfjE"
      },
      "execution_count": 14,
      "outputs": []
    },
    {
      "cell_type": "code",
      "source": [
        "svm_grad.fit(X_train, Y_train)"
      ],
      "metadata": {
        "id": "502x7Z3EOuxD"
      },
      "execution_count": 15,
      "outputs": []
    },
    {
      "cell_type": "code",
      "source": [
        "fig, axes = plt.subplots()\n",
        "axes.scatter(X_train[:, 0], X_train[:, 1], color=['red' if y == -1 else 'blue' for y in Y_train])"
      ],
      "metadata": {
        "colab": {
          "base_uri": "https://localhost:8080/",
          "height": 448
        },
        "id": "pLLLSsroS8F7",
        "outputId": "4f682156-72cf-4b75-c4a4-6f492bebb94c"
      },
      "execution_count": 16,
      "outputs": [
        {
          "output_type": "execute_result",
          "data": {
            "text/plain": [
              "<matplotlib.collections.PathCollection at 0x7b8e4b1a5d50>"
            ]
          },
          "metadata": {},
          "execution_count": 16
        },
        {
          "output_type": "display_data",
          "data": {
            "text/plain": [
              "<Figure size 640x480 with 1 Axes>"
            ],
            "image/png": "[encoded data removed]"
          },
          "metadata": {}
        }
      ]
    },
    {
      "cell_type": "code",
      "source": [
        "x = np.arange(0, 12, 0.5)\n",
        "w = svm_grad.w\n",
        "b = svm_grad.b\n",
        "axes.plot(x, -w[0] / w[1] * x - b / w[1])"
      ],
      "metadata": {
        "colab": {
          "base_uri": "https://localhost:8080/"
        },
        "id": "-fBAEPwIVaav",
        "outputId": "1709b9f0-1312-435b-e356-38db11793eb5"
      },
      "execution_count": 17,
      "outputs": [
        {
          "output_type": "execute_result",
          "data": {
            "text/plain": [
              "[<matplotlib.lines.Line2D at 0x7b8e4c069050>]"
            ]
          },
          "metadata": {},
          "execution_count": 17
        }
      ]
    },
    {
      "cell_type": "code",
      "source": [
        "fig"
      ],
      "metadata": {
        "colab": {
          "base_uri": "https://localhost:8080/",
          "height": 430
        },
        "id": "7Qrgd2WTV9ED",
        "outputId": "7de20ab9-3a4e-44ab-b171-e3c9529b6e75"
      },
      "execution_count": 18,
      "outputs": [
        {
          "output_type": "execute_result",
          "data": {
            "text/plain": [
              "<Figure size 640x480 with 1 Axes>"
            ],
            "image/png": "[encoded data removed]"
          },
          "metadata": {},
          "execution_count": 18
        }
      ]
    },
    {
      "cell_type": "markdown",
      "source": [
        "The results demonstrate the insufficiency of the gradient descent method for solving the constraint problem. Instead of Lagrange dual problem, the Hinge loss could be used to decrease the loss effectively."
      ],
      "metadata": {
        "id": "6fRjI6SG7uzt"
      }
    },
    {
      "cell_type": "markdown",
      "source": [
        "## Hinge loss SVM"
      ],
      "metadata": {
        "id": "RNCseuF88DmN"
      }
    },
    {
      "cell_type": "code",
      "source": [
        "def mulmat(a: np.array, M: np.array) -> np.array:\n",
        "    return (M.T * a).T\n",
        "\n",
        "class HSVM:\n",
        "    w: np.array\n",
        "    b: np.array\n",
        "    alpha: float = .05\n",
        "\n",
        "    def _loss(self, X: np.array, Y: np.array) -> np.array:\n",
        "        Margin = Y * (X.dot(self.w) + np.ones(Y.size) * self.b)\n",
        "        return np.sum(np.maximum(np.zeros(Y.size), np.ones(Y.size) - Margin))\n",
        "\n",
        "    def _gradW(self, X: np.array, Y: np.array) -> np.array:\n",
        "        Margin = Y * (X.dot(self.w) + np.ones(Y.size) * self.b)\n",
        "        loss = np.ones(Y.size) - Margin\n",
        "\n",
        "        grad = -mulmat(Y, X)\n",
        "        grad[loss < 0] = 0\n",
        "        return np.sum(grad, axis=0)\n",
        "\n",
        "    def _gradB(self, X: np.array, Y: np.array) -> float:\n",
        "        Margin = Y * (X.dot(self.w) + np.ones(Y.size) * self.b)\n",
        "        loss = np.ones(Y.size) - Margin\n",
        "\n",
        "        grad = -Y\n",
        "        grad[loss < 0] = 0\n",
        "\n",
        "        return np.sum(grad)\n",
        "\n",
        "    def __init__(self, d: int):\n",
        "        self.w = np.random.normal(0, 1, size=(d,))\n",
        "        self.b = np.random.normal(0, 1)\n",
        "\n",
        "    def fit(self, X: np.array, Y: np.array, n_iter=1000):\n",
        "        for i in range(n_iter):\n",
        "            self.w = self.w - self.alpha * self._gradW(X, Y)\n",
        "            self.b = self.b - self.alpha * self._gradB(X, Y)\n",
        "            if (i % 100 == 0):\n",
        "                print(f\"Iteration {i}, loss: \", self._loss(X, Y))\n",
        "\n",
        "    def predict(self, X: np.array, Y: np.array):\n",
        "        return np.sign(X.dot(self.w) + np.ones(Y.size) * self.b)"
      ],
      "metadata": {
        "id": "poGuG2BM8HEH"
      },
      "execution_count": 19,
      "outputs": []
    },
    {
      "cell_type": "code",
      "source": [
        "hsvm = HSVM(2)\n",
        "hsvm.fit(X_train, Y_train)"
      ],
      "metadata": {
        "colab": {
          "base_uri": "https://localhost:8080/"
        },
        "id": "nYqWe00eCb2L",
        "outputId": "6cb7725d-526b-440f-ed8f-158c3060b6da"
      },
      "execution_count": 20,
      "outputs": [
        {
          "output_type": "stream",
          "name": "stdout",
          "text": [
            "Iteration 0, loss:  6177.90020332003\n",
            "Iteration 100, loss:  18.466392498127508\n",
            "Iteration 200, loss:  18.60233086088614\n",
            "Iteration 300, loss:  21.5902659976605\n",
            "Iteration 400, loss:  6.223581030784892\n",
            "Iteration 500, loss:  8.38422552055834\n",
            "Iteration 600, loss:  6.1225891034379005\n",
            "Iteration 700, loss:  6.193833362632682\n",
            "Iteration 800, loss:  21.097588977629872\n",
            "Iteration 900, loss:  9.981039678341915\n"
          ]
        }
      ]
    },
    {
      "cell_type": "code",
      "source": [
        "fig, axes = plt.subplots()\n",
        "axes.scatter(X_train[:, 0], X_train[:, 1], color=['red' if y == -1 else 'blue' for y in Y_train])\n",
        "x = np.arange(0, 12, 0.5)\n",
        "w = hsvm.w\n",
        "b = hsvm.b\n",
        "axes.plot(x, -w[0] / w[1] * x - b / w[1])"
      ],
      "metadata": {
        "colab": {
          "base_uri": "https://localhost:8080/",
          "height": 448
        },
        "id": "4RlfGDXmHLAi",
        "outputId": "1b273e20-45b3-4bb4-ac9c-a242fa3b5814"
      },
      "execution_count": 21,
      "outputs": [
        {
          "output_type": "execute_result",
          "data": {
            "text/plain": [
              "[<matplotlib.lines.Line2D at 0x7b8e4b2133d0>]"
            ]
          },
          "metadata": {},
          "execution_count": 21
        },
        {
          "output_type": "display_data",
          "data": {
            "text/plain": [
              "<Figure size 640x480 with 1 Axes>"
            ],
            "image/png": "[encoded data removed]"
          },
          "metadata": {}
        }
      ]
    },
    {
      "cell_type": "markdown",
      "source": [
        "### Lagrangian Quadratic Programming Suboptimal Solution"
      ],
      "metadata": {
        "id": "6YC7I7PinfVF"
      }
    },
    {
      "cell_type": "markdown",
      "source": [
        "Artificial Bee Colony can be used to find a suboptimal solution for the quadratic constrained programming problem"
      ],
      "metadata": {
        "id": "ee9zcPP456_H"
      }
    },
    {
      "cell_type": "code",
      "source": [
        "!pip install beecolpy"
      ],
      "metadata": {
        "colab": {
          "base_uri": "https://localhost:8080/"
        },
        "id": "E-DiykOD6e1K",
        "outputId": "19fa4a5d-4e0a-4d1e-cfe7-865e82d768ab"
      },
      "execution_count": null,
      "outputs": [
        {
          "output_type": "stream",
          "name": "stdout",
          "text": [
            "Collecting beecolpy\n",
            "  Downloading beecolpy-2.3.2.tar.gz (20 kB)\n",
            "  Preparing metadata (setup.py) ... \u001b[?25l\u001b[?25hdone\n",
            "Requirement already satisfied: numpy in /usr/local/lib/python3.11/dist-packages (from beecolpy) (2.0.2)\n",
            "Building wheels for collected packages: beecolpy\n",
            "  Building wheel for beecolpy (setup.py) ... \u001b[?25l\u001b[?25hdone\n",
            "  Created wheel for beecolpy: filename=beecolpy-2.3.2-py3-none-any.whl size=17964 sha256=ce2b763541ee9c5b0054f417a9140a8d0d618ef91da72b9c932bd861b0b65e35\n",
            "  Stored in directory: /root/.cache/pip/wheels/6f/00/bb/55023875d7b30110c5f4478420cd5814206dbc9533839160b5\n",
            "Successfully built beecolpy\n",
            "Installing collected packages: beecolpy\n",
            "Successfully installed beecolpy-2.3.2\n"
          ]
        }
      ]
    },
    {
      "cell_type": "code",
      "source": [
        "from beecolpy import abc\n",
        "\n",
        "\n",
        "def mulmat(a: np.array, M: np.array) -> np.array:\n",
        "    return (M.T * a).T\n",
        "\n",
        "\n",
        "class CSVM:\n",
        "    lambdas: np.array\n",
        "    w: np.array\n",
        "    b: float\n",
        "\n",
        "    def fit(self, X: np.array, Y: np.array):\n",
        "        def obj_func(position) -> float:\n",
        "            nonlocal X, Y\n",
        "            lambdas = np.array(position)\n",
        "            temp = mulmat(lambdas * Y, X)\n",
        "            return np.sum(lambdas) - 1/2 * np.sum(np.inner(temp, temp)) - np.abs(np.sum(Y * lambdas))\n",
        "\n",
        "        d = Y.size\n",
        "        self.X = X\n",
        "        self.Y = Y\n",
        "\n",
        "        abc_obj = abc(\n",
        "            function=obj_func,\n",
        "            boundaries=[(0, 100)]*d,\n",
        "            colony_size=100,\n",
        "            scouts=0.5,\n",
        "            iterations=500,\n",
        "            min_max='max',\n",
        "            nan_protection=True,\n",
        "            log_agents=True,\n",
        "            seed=None,\n",
        "        )\n",
        "\n",
        "        abc_obj.fit() #Execute the algorithm\n",
        "        self.lambdas = np.array(abc_obj.get_solution())\n",
        "\n",
        "        # Set up b and omega\n",
        "        bs = []\n",
        "        for k in np.where(self.lambdas > 0)[0]:\n",
        "            x_k = X[k, :]\n",
        "            y_k = Y[k]\n",
        "            bs.append(y_k - np.sum( mulmat(Y * self.lambdas, X).dot(x_k) ))\n",
        "        self.w = np.sum(mulmat(Y * self.lambdas, X), axis=0)\n",
        "        self.b = np.mean(bs)\n",
        "\n",
        "\n",
        "    def predict(self, X: np.array) -> np.array:\n",
        "        return np.sign(X.dot(self.w) + np.ones(self.lambdas.shape) * self.b)\n",
        "\n"
      ],
      "metadata": {
        "id": "9GeVGxpNCcUL"
      },
      "execution_count": null,
      "outputs": []
    },
    {
      "cell_type": "code",
      "source": [
        "csvm = CSVM()\n",
        "csvm.fit(X_train, Y_train)"
      ],
      "metadata": {
        "id": "X2yy36Aa7IBo"
      },
      "execution_count": null,
      "outputs": []
    },
    {
      "cell_type": "code",
      "source": [
        "fig, axes = plt.subplots()\n",
        "axes.scatter(X_train[:, 0], X_train[:, 1], color=['red' if y == -1 else 'blue' for y in Y_train])\n",
        "x = np.arange(0, 12, 0.5)\n",
        "w = csvm.w\n",
        "b = csvm.b\n",
        "axes.plot(x, -w[0] / w[1] * x - b / w[1])"
      ],
      "metadata": {
        "colab": {
          "base_uri": "https://localhost:8080/",
          "height": 448
        },
        "id": "-7-J5FCXNdZf",
        "outputId": "27e9a7fb-ae96-4808-9a86-4d6a6cb65b4f"
      },
      "execution_count": null,
      "outputs": [
        {
          "output_type": "execute_result",
          "data": {
            "text/plain": [
              "[<matplotlib.lines.Line2D at 0x7bb8c472dc90>]"
            ]
          },
          "metadata": {},
          "execution_count": 41
        },
        {
          "output_type": "display_data",
          "data": {
            "text/plain": [
              "<Figure size 640x480 with 1 Axes>"
            ],
            "image/png": "[encoded data removed]"
          },
          "metadata": {}
        }
      ]
    },
    {
      "cell_type": "markdown",
      "source": [
        "### Iris Classification using `sklearn`"
      ],
      "metadata": {
        "id": "zaXw-D8Fnnye"
      }
    },
    {
      "cell_type": "code",
      "source": [
        "from sklearn.datasets import load_iris\n",
        "from sklearn.model_selection import train_test_split\n",
        "from sklearn.model_selection import GridSearchCV\n",
        "\n",
        "data, target = load_iris(return_X_y=True)\n",
        "X_train, X_test, Y_train, Y_test = train_test_split(data, target, test_size=.3)"
      ],
      "metadata": {
        "id": "_FW4baevo6ys"
      },
      "execution_count": 43,
      "outputs": []
    },
    {
      "cell_type": "code",
      "source": [
        "from sklearn.svm import SVC\n",
        "\n",
        "parameters = {'kernel':('linear', 'rbf'), 'C':[1, 10]}\n",
        "svc = SVC()\n",
        "clf = GridSearchCV(svc, parameters)\n",
        "clf.fit(X_train, Y_train)"
      ],
      "metadata": {
        "id": "X4VRNPeOWKuJ",
        "colab": {
          "base_uri": "https://localhost:8080/",
          "height": 164
        },
        "outputId": "c9b3037a-52ef-40b9-affe-4c0f2fb208f1"
      },
      "execution_count": 44,
      "outputs": [
        {
          "output_type": "execute_result",
          "data": {
            "text/plain": [
              "GridSearchCV(estimator=SVC(),\n",
              "             param_grid={'C': [1, 10], 'kernel': ('linear', 'rbf')})"
            ],
            "text/html": [
              "<style>#sk-container-id-2 {\n",
              "  /* Definition of color scheme common for light and dark mode */\n",
              "  --sklearn-color-text: #000;\n",
              "  --sklearn-color-text-muted: #666;\n",
              "  --sklearn-color-line: gray;\n",
              "  /* Definition of color scheme for unfitted estimators */\n",
              "  --sklearn-color-unfitted-level-0: #fff5e6;\n",
              "  --sklearn-color-unfitted-level-1: #f6e4d2;\n",
              "  --sklearn-color-unfitted-level-2: #ffe0b3;\n",
              "  --sklearn-color-unfitted-level-3: chocolate;\n",
              "  /* Definition of color scheme for fitted estimators */\n",
              "  --sklearn-color-fitted-level-0: #f0f8ff;\n",
              "  --sklearn-color-fitted-level-1: #d4ebff;\n",
              "  --sklearn-color-fitted-level-2: #b3dbfd;\n",
              "  --sklearn-color-fitted-level-3: cornflowerblue;\n",
              "\n",
              "  /* Specific color for light theme */\n",
              "  --sklearn-color-text-on-default-background: var(--sg-text-color, var(--theme-code-foreground, var(--jp-content-font-color1, black)));\n",
              "  --sklearn-color-background: var(--sg-background-color, var(--theme-background, var(--jp-layout-color0, white)));\n",
              "  --sklearn-color-border-box: var(--sg-text-color, var(--theme-code-foreground, var(--jp-content-font-color1, black)));\n",
              "  --sklearn-color-icon: #696969;\n",
              "\n",
              "  @media (prefers-color-scheme: dark) {\n",
              "    /* Redefinition of color scheme for dark theme */\n",
              "    --sklearn-color-text-on-default-background: var(--sg-text-color, var(--theme-code-foreground, var(--jp-content-font-color1, white)));\n",
              "    --sklearn-color-background: var(--sg-background-color, var(--theme-background, var(--jp-layout-color0, #111)));\n",
              "    --sklearn-color-border-box: var(--sg-text-color, var(--theme-code-foreground, var(--jp-content-font-color1, white)));\n",
              "    --sklearn-color-icon: #878787;\n",
              "  }\n",
              "}\n",
              "\n",
              "#sk-container-id-2 {\n",
              "  color: var(--sklearn-color-text);\n",
              "}\n",
              "\n",
              "#sk-container-id-2 pre {\n",
              "  padding: 0;\n",
              "}\n",
              "\n",
              "#sk-container-id-2 input.sk-hidden--visually {\n",
              "  border: 0;\n",
              "  clip: rect(1px 1px 1px 1px);\n",
              "  clip: rect(1px, 1px, 1px, 1px);\n",
              "  height: 1px;\n",
              "  margin: -1px;\n",
              "  overflow: hidden;\n",
              "  padding: 0;\n",
              "  position: absolute;\n",
              "  width: 1px;\n",
              "}\n",
              "\n",
              "#sk-container-id-2 div.sk-dashed-wrapped {\n",
              "  border: 1px dashed var(--sklearn-color-line);\n",
              "  margin: 0 0.4em 0.5em 0.4em;\n",
              "  box-sizing: border-box;\n",
              "  padding-bottom: 0.4em;\n",
              "  background-color: var(--sklearn-color-background);\n",
              "}\n",
              "\n",
              "#sk-container-id-2 div.sk-container {\n",
              "  /* jupyter's `normalize.less` sets `[hidden] { display: none; }`\n",
              "     but bootstrap.min.css set `[hidden] { display: none !important; }`\n",
              "     so we also need the `!important` here to be able to override the\n",
              "     default hidden behavior on the sphinx rendered scikit-learn.org.\n",
              "     See: https://github.com/scikit-learn/scikit-learn/issues/21755 */\n",
              "  display: inline-block !important;\n",
              "  position: relative;\n",
              "}\n",
              "\n",
              "#sk-container-id-2 div.sk-text-repr-fallback {\n",
              "  display: none;\n",
              "}\n",
              "\n",
              "div.sk-parallel-item,\n",
              "div.sk-serial,\n",
              "div.sk-item {\n",
              "  /* draw centered vertical line to link estimators */\n",
              "  background-image: linear-gradient(var(--sklearn-color-text-on-default-background), var(--sklearn-color-text-on-default-background));\n",
              "  background-size: 2px 100%;\n",
              "  background-repeat: no-repeat;\n",
              "  background-position: center center;\n",
              "}\n",
              "\n",
              "/* Parallel-specific style estimator block */\n",
              "\n",
              "#sk-container-id-2 div.sk-parallel-item::after {\n",
              "  content: \"\";\n",
              "  width: 100%;\n",
              "  border-bottom: 2px solid var(--sklearn-color-text-on-default-background);\n",
              "  flex-grow: 1;\n",
              "}\n",
              "\n",
              "#sk-container-id-2 div.sk-parallel {\n",
              "  display: flex;\n",
              "  align-items: stretch;\n",
              "  justify-content: center;\n",
              "  background-color: var(--sklearn-color-background);\n",
              "  position: relative;\n",
              "}\n",
              "\n",
              "#sk-container-id-2 div.sk-parallel-item {\n",
              "  display: flex;\n",
              "  flex-direction: column;\n",
              "}\n",
              "\n",
              "#sk-container-id-2 div.sk-parallel-item:first-child::after {\n",
              "  align-self: flex-end;\n",
              "  width: 50%;\n",
              "}\n",
              "\n",
              "#sk-container-id-2 div.sk-parallel-item:last-child::after {\n",
              "  align-self: flex-start;\n",
              "  width: 50%;\n",
              "}\n",
              "\n",
              "#sk-container-id-2 div.sk-parallel-item:only-child::after {\n",
              "  width: 0;\n",
              "}\n",
              "\n",
              "/* Serial-specific style estimator block */\n",
              "\n",
              "#sk-container-id-2 div.sk-serial {\n",
              "  display: flex;\n",
              "  flex-direction: column;\n",
              "  align-items: center;\n",
              "  background-color: var(--sklearn-color-background);\n",
              "  padding-right: 1em;\n",
              "  padding-left: 1em;\n",
              "}\n",
              "\n",
              "\n",
              "/* Toggleable style: style used for estimator/Pipeline/ColumnTransformer box that is\n",
              "clickable and can be expanded/collapsed.\n",
              "- Pipeline and ColumnTransformer use this feature and define the default style\n",
              "- Estimators will overwrite some part of the style using the `sk-estimator` class\n",
              "*/\n",
              "\n",
              "/* Pipeline and ColumnTransformer style (default) */\n",
              "\n",
              "#sk-container-id-2 div.sk-toggleable {\n",
              "  /* Default theme specific background. It is overwritten whether we have a\n",
              "  specific estimator or a Pipeline/ColumnTransformer */\n",
              "  background-color: var(--sklearn-color-background);\n",
              "}\n",
              "\n",
              "/* Toggleable label */\n",
              "#sk-container-id-2 label.sk-toggleable__label {\n",
              "  cursor: pointer;\n",
              "  display: flex;\n",
              "  width: 100%;\n",
              "  margin-bottom: 0;\n",
              "  padding: 0.5em;\n",
              "  box-sizing: border-box;\n",
              "  text-align: center;\n",
              "  align-items: start;\n",
              "  justify-content: space-between;\n",
              "  gap: 0.5em;\n",
              "}\n",
              "\n",
              "#sk-container-id-2 label.sk-toggleable__label .caption {\n",
              "  font-size: 0.6rem;\n",
              "  font-weight: lighter;\n",
              "  color: var(--sklearn-color-text-muted);\n",
              "}\n",
              "\n",
              "#sk-container-id-2 label.sk-toggleable__label-arrow:before {\n",
              "  /* Arrow on the left of the label */\n",
              "  content: \"▸\";\n",
              "  float: left;\n",
              "  margin-right: 0.25em;\n",
              "  color: var(--sklearn-color-icon);\n",
              "}\n",
              "\n",
              "#sk-container-id-2 label.sk-toggleable__label-arrow:hover:before {\n",
              "  color: var(--sklearn-color-text);\n",
              "}\n",
              "\n",
              "/* Toggleable content - dropdown */\n",
              "\n",
              "#sk-container-id-2 div.sk-toggleable__content {\n",
              "  max-height: 0;\n",
              "  max-width: 0;\n",
              "  overflow: hidden;\n",
              "  text-align: left;\n",
              "  /* unfitted */\n",
              "  background-color: var(--sklearn-color-unfitted-level-0);\n",
              "}\n",
              "\n",
              "#sk-container-id-2 div.sk-toggleable__content.fitted {\n",
              "  /* fitted */\n",
              "  background-color: var(--sklearn-color-fitted-level-0);\n",
              "}\n",
              "\n",
              "#sk-container-id-2 div.sk-toggleable__content pre {\n",
              "  margin: 0.2em;\n",
              "  border-radius: 0.25em;\n",
              "  color: var(--sklearn-color-text);\n",
              "  /* unfitted */\n",
              "  background-color: var(--sklearn-color-unfitted-level-0);\n",
              "}\n",
              "\n",
              "#sk-container-id-2 div.sk-toggleable__content.fitted pre {\n",
              "  /* unfitted */\n",
              "  background-color: var(--sklearn-color-fitted-level-0);\n",
              "}\n",
              "\n",
              "#sk-container-id-2 input.sk-toggleable__control:checked~div.sk-toggleable__content {\n",
              "  /* Expand drop-down */\n",
              "  max-height: 200px;\n",
              "  max-width: 100%;\n",
              "  overflow: auto;\n",
              "}\n",
              "\n",
              "#sk-container-id-2 input.sk-toggleable__control:checked~label.sk-toggleable__label-arrow:before {\n",
              "  content: \"▾\";\n",
              "}\n",
              "\n",
              "/* Pipeline/ColumnTransformer-specific style */\n",
              "\n",
              "#sk-container-id-2 div.sk-label input.sk-toggleable__control:checked~label.sk-toggleable__label {\n",
              "  color: var(--sklearn-color-text);\n",
              "  background-color: var(--sklearn-color-unfitted-level-2);\n",
              "}\n",
              "\n",
              "#sk-container-id-2 div.sk-label.fitted input.sk-toggleable__control:checked~label.sk-toggleable__label {\n",
              "  background-color: var(--sklearn-color-fitted-level-2);\n",
              "}\n",
              "\n",
              "/* Estimator-specific style */\n",
              "\n",
              "/* Colorize estimator box */\n",
              "#sk-container-id-2 div.sk-estimator input.sk-toggleable__control:checked~label.sk-toggleable__label {\n",
              "  /* unfitted */\n",
              "  background-color: var(--sklearn-color-unfitted-level-2);\n",
              "}\n",
              "\n",
              "#sk-container-id-2 div.sk-estimator.fitted input.sk-toggleable__control:checked~label.sk-toggleable__label {\n",
              "  /* fitted */\n",
              "  background-color: var(--sklearn-color-fitted-level-2);\n",
              "}\n",
              "\n",
              "#sk-container-id-2 div.sk-label label.sk-toggleable__label,\n",
              "#sk-container-id-2 div.sk-label label {\n",
              "  /* The background is the default theme color */\n",
              "  color: var(--sklearn-color-text-on-default-background);\n",
              "}\n",
              "\n",
              "/* On hover, darken the color of the background */\n",
              "#sk-container-id-2 div.sk-label:hover label.sk-toggleable__label {\n",
              "  color: var(--sklearn-color-text);\n",
              "  background-color: var(--sklearn-color-unfitted-level-2);\n",
              "}\n",
              "\n",
              "/* Label box, darken color on hover, fitted */\n",
              "#sk-container-id-2 div.sk-label.fitted:hover label.sk-toggleable__label.fitted {\n",
              "  color: var(--sklearn-color-text);\n",
              "  background-color: var(--sklearn-color-fitted-level-2);\n",
              "}\n",
              "\n",
              "/* Estimator label */\n",
              "\n",
              "#sk-container-id-2 div.sk-label label {\n",
              "  font-family: monospace;\n",
              "  font-weight: bold;\n",
              "  display: inline-block;\n",
              "  line-height: 1.2em;\n",
              "}\n",
              "\n",
              "#sk-container-id-2 div.sk-label-container {\n",
              "  text-align: center;\n",
              "}\n",
              "\n",
              "/* Estimator-specific */\n",
              "#sk-container-id-2 div.sk-estimator {\n",
              "  font-family: monospace;\n",
              "  border: 1px dotted var(--sklearn-color-border-box);\n",
              "  border-radius: 0.25em;\n",
              "  box-sizing: border-box;\n",
              "  margin-bottom: 0.5em;\n",
              "  /* unfitted */\n",
              "  background-color: var(--sklearn-color-unfitted-level-0);\n",
              "}\n",
              "\n",
              "#sk-container-id-2 div.sk-estimator.fitted {\n",
              "  /* fitted */\n",
              "  background-color: var(--sklearn-color-fitted-level-0);\n",
              "}\n",
              "\n",
              "/* on hover */\n",
              "#sk-container-id-2 div.sk-estimator:hover {\n",
              "  /* unfitted */\n",
              "  background-color: var(--sklearn-color-unfitted-level-2);\n",
              "}\n",
              "\n",
              "#sk-container-id-2 div.sk-estimator.fitted:hover {\n",
              "  /* fitted */\n",
              "  background-color: var(--sklearn-color-fitted-level-2);\n",
              "}\n",
              "\n",
              "/* Specification for estimator info (e.g. \"i\" and \"?\") */\n",
              "\n",
              "/* Common style for \"i\" and \"?\" */\n",
              "\n",
              ".sk-estimator-doc-link,\n",
              "a:link.sk-estimator-doc-link,\n",
              "a:visited.sk-estimator-doc-link {\n",
              "  float: right;\n",
              "  font-size: smaller;\n",
              "  line-height: 1em;\n",
              "  font-family: monospace;\n",
              "  background-color: var(--sklearn-color-background);\n",
              "  border-radius: 1em;\n",
              "  height: 1em;\n",
              "  width: 1em;\n",
              "  text-decoration: none !important;\n",
              "  margin-left: 0.5em;\n",
              "  text-align: center;\n",
              "  /* unfitted */\n",
              "  border: var(--sklearn-color-unfitted-level-1) 1pt solid;\n",
              "  color: var(--sklearn-color-unfitted-level-1);\n",
              "}\n",
              "\n",
              ".sk-estimator-doc-link.fitted,\n",
              "a:link.sk-estimator-doc-link.fitted,\n",
              "a:visited.sk-estimator-doc-link.fitted {\n",
              "  /* fitted */\n",
              "  border: var(--sklearn-color-fitted-level-1) 1pt solid;\n",
              "  color: var(--sklearn-color-fitted-level-1);\n",
              "}\n",
              "\n",
              "/* On hover */\n",
              "div.sk-estimator:hover .sk-estimator-doc-link:hover,\n",
              ".sk-estimator-doc-link:hover,\n",
              "div.sk-label-container:hover .sk-estimator-doc-link:hover,\n",
              ".sk-estimator-doc-link:hover {\n",
              "  /* unfitted */\n",
              "  background-color: var(--sklearn-color-unfitted-level-3);\n",
              "  color: var(--sklearn-color-background);\n",
              "  text-decoration: none;\n",
              "}\n",
              "\n",
              "div.sk-estimator.fitted:hover .sk-estimator-doc-link.fitted:hover,\n",
              ".sk-estimator-doc-link.fitted:hover,\n",
              "div.sk-label-container:hover .sk-estimator-doc-link.fitted:hover,\n",
              ".sk-estimator-doc-link.fitted:hover {\n",
              "  /* fitted */\n",
              "  background-color: var(--sklearn-color-fitted-level-3);\n",
              "  color: var(--sklearn-color-background);\n",
              "  text-decoration: none;\n",
              "}\n",
              "\n",
              "/* Span, style for the box shown on hovering the info icon */\n",
              ".sk-estimator-doc-link span {\n",
              "  display: none;\n",
              "  z-index: 9999;\n",
              "  position: relative;\n",
              "  font-weight: normal;\n",
              "  right: .2ex;\n",
              "  padding: .5ex;\n",
              "  margin: .5ex;\n",
              "  width: min-content;\n",
              "  min-width: 20ex;\n",
              "  max-width: 50ex;\n",
              "  color: var(--sklearn-color-text);\n",
              "  box-shadow: 2pt 2pt 4pt #999;\n",
              "  /* unfitted */\n",
              "  background: var(--sklearn-color-unfitted-level-0);\n",
              "  border: .5pt solid var(--sklearn-color-unfitted-level-3);\n",
              "}\n",
              "\n",
              ".sk-estimator-doc-link.fitted span {\n",
              "  /* fitted */\n",
              "  background: var(--sklearn-color-fitted-level-0);\n",
              "  border: var(--sklearn-color-fitted-level-3);\n",
              "}\n",
              "\n",
              ".sk-estimator-doc-link:hover span {\n",
              "  display: block;\n",
              "}\n",
              "\n",
              "/* \"?\"-specific style due to the `<a>` HTML tag */\n",
              "\n",
              "#sk-container-id-2 a.estimator_doc_link {\n",
              "  float: right;\n",
              "  font-size: 1rem;\n",
              "  line-height: 1em;\n",
              "  font-family: monospace;\n",
              "  background-color: var(--sklearn-color-background);\n",
              "  border-radius: 1rem;\n",
              "  height: 1rem;\n",
              "  width: 1rem;\n",
              "  text-decoration: none;\n",
              "  /* unfitted */\n",
              "  color: var(--sklearn-color-unfitted-level-1);\n",
              "  border: var(--sklearn-color-unfitted-level-1) 1pt solid;\n",
              "}\n",
              "\n",
              "#sk-container-id-2 a.estimator_doc_link.fitted {\n",
              "  /* fitted */\n",
              "  border: var(--sklearn-color-fitted-level-1) 1pt solid;\n",
              "  color: var(--sklearn-color-fitted-level-1);\n",
              "}\n",
              "\n",
              "/* On hover */\n",
              "#sk-container-id-2 a.estimator_doc_link:hover {\n",
              "  /* unfitted */\n",
              "  background-color: var(--sklearn-color-unfitted-level-3);\n",
              "  color: var(--sklearn-color-background);\n",
              "  text-decoration: none;\n",
              "}\n",
              "\n",
              "#sk-container-id-2 a.estimator_doc_link.fitted:hover {\n",
              "  /* fitted */\n",
              "  background-color: var(--sklearn-color-fitted-level-3);\n",
              "}\n",
              "</style><div id=\"sk-container-id-2\" class=\"sk-top-container\"><div class=\"sk-text-repr-fallback\"><pre>GridSearchCV(estimator=SVC(),\n",
              "             param_grid={&#x27;C&#x27;: [1, 10], &#x27;kernel&#x27;: (&#x27;linear&#x27;, &#x27;rbf&#x27;)})</pre><b>In a Jupyter environment, please rerun this cell to show the HTML representation or trust the notebook. <br />On GitHub, the HTML representation is unable to render, please try loading this page with nbviewer.org.</b></div><div class=\"sk-container\" hidden><div class=\"sk-item sk-dashed-wrapped\"><div class=\"sk-label-container\"><div class=\"sk-label fitted sk-toggleable\"><input class=\"sk-toggleable__control sk-hidden--visually\" id=\"sk-estimator-id-4\" type=\"checkbox\" ><label for=\"sk-estimator-id-4\" class=\"sk-toggleable__label fitted sk-toggleable__label-arrow\"><div><div>GridSearchCV</div></div><div><a class=\"sk-estimator-doc-link fitted\" rel=\"noreferrer\" target=\"_blank\" href=\"https://scikit-learn.org/1.6/modules/generated/sklearn.model_selection.GridSearchCV.html\">?<span>Documentation for GridSearchCV</span></a><span class=\"sk-estimator-doc-link fitted\">i<span>Fitted</span></span></div></label><div class=\"sk-toggleable__content fitted\"><pre>GridSearchCV(estimator=SVC(),\n",
              "             param_grid={&#x27;C&#x27;: [1, 10], &#x27;kernel&#x27;: (&#x27;linear&#x27;, &#x27;rbf&#x27;)})</pre></div> </div></div><div class=\"sk-parallel\"><div class=\"sk-parallel-item\"><div class=\"sk-item\"><div class=\"sk-label-container\"><div class=\"sk-label fitted sk-toggleable\"><input class=\"sk-toggleable__control sk-hidden--visually\" id=\"sk-estimator-id-5\" type=\"checkbox\" ><label for=\"sk-estimator-id-5\" class=\"sk-toggleable__label fitted sk-toggleable__label-arrow\"><div><div>best_estimator_: SVC</div></div></label><div class=\"sk-toggleable__content fitted\"><pre>SVC(C=1, kernel=&#x27;linear&#x27;)</pre></div> </div></div><div class=\"sk-serial\"><div class=\"sk-item\"><div class=\"sk-estimator fitted sk-toggleable\"><input class=\"sk-toggleable__control sk-hidden--visually\" id=\"sk-estimator-id-6\" type=\"checkbox\" ><label for=\"sk-estimator-id-6\" class=\"sk-toggleable__label fitted sk-toggleable__label-arrow\"><div><div>SVC</div></div><div><a class=\"sk-estimator-doc-link fitted\" rel=\"noreferrer\" target=\"_blank\" href=\"https://scikit-learn.org/1.6/modules/generated/sklearn.svm.SVC.html\">?<span>Documentation for SVC</span></a></div></label><div class=\"sk-toggleable__content fitted\"><pre>SVC(C=1, kernel=&#x27;linear&#x27;)</pre></div> </div></div></div></div></div></div></div></div></div>"
            ]
          },
          "metadata": {},
          "execution_count": 44
        }
      ]
    },
    {
      "cell_type": "code",
      "source": [
        "from sklearn.metrics import accuracy_score, precision_score, recall_score, f1_score\n",
        "\n",
        "print(clf.best_params_, clf.best_score_)\n",
        "svc = clf.best_estimator_\n",
        "\n",
        "Y_pred = svc.predict(X_test)\n",
        "print(f\"Metrics:\\n\\taccuracy: {accuracy_score(Y_test, Y_pred)}\")\n",
        "print(f\"\\tprecision: {precision_score(Y_test, Y_pred, average=None)}\")\n",
        "print(f\"\\trecall: {recall_score(Y_test, Y_pred, average=None)}\")\n",
        "print(f\"\\tf1: {f1_score(Y_test, Y_pred, average=None)}\")"
      ],
      "metadata": {
        "colab": {
          "base_uri": "https://localhost:8080/"
        },
        "id": "CtXc1ePAphX7",
        "outputId": "f5fd1e69-df33-4491-d47c-67148f56d4bd"
      },
      "execution_count": 45,
      "outputs": [
        {
          "output_type": "stream",
          "name": "stdout",
          "text": [
            "{'C': 1, 'kernel': 'linear'} 0.980952380952381\n",
            "Metrics:\n",
            "\taccuracy: 0.9555555555555556\n",
            "\tprecision: [1.   0.9  0.95]\n",
            "\trecall: [1.   0.9  0.95]\n",
            "\tf1: [1.   0.9  0.95]\n"
          ]
        }
      ]
    },
    {
      "cell_type": "code",
      "source": [],
      "metadata": {
        "id": "kfXXE1V_qB_s"
      },
      "execution_count": null,
      "outputs": []
    }
  ]
}